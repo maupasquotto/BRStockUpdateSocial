{
 "cells": [
  {
   "cell_type": "code",
   "execution_count": null,
   "metadata": {},
   "outputs": [],
   "source": [
    "!pip install instagrapi\n",
    "!pip install holidays"
   ]
  },
  {
   "cell_type": "code",
   "execution_count": 6,
   "metadata": {},
   "outputs": [],
   "source": [
    "from instagrapi import Client\n",
    "from bs4 import BeautifulSoup\n",
    "from urllib.request import urlopen\n",
    "from PIL import Image, ImageDraw, ImageFont\n",
    "from datetime import date\n",
    "import json\n",
    "import holidays"
   ]
  },
  {
   "cell_type": "code",
   "execution_count": 7,
   "metadata": {},
   "outputs": [],
   "source": [
    "# is it holiday\n",
    "br_holidays = holidays.BR()\n",
    "today = date.today()\n",
    "\n",
    "if today.weekday() > 5 or today.strftime(\"%Y-%m-%d\") in br_holidays:\n",
    "    #quit()\n",
    "    pass"
   ]
  },
  {
   "cell_type": "code",
   "execution_count": 8,
   "metadata": {},
   "outputs": [],
   "source": [
    "# Load config\n",
    "with open('.env') as env:\n",
    "    config = json.loads(env.read())\n",
    "\n",
    "fileName = 'daily.jpg'\n",
    "url = \"https://economia.uol.com.br/cotacoes/bolsas\"\n",
    "page = urlopen(url)\n",
    "html = page.read().decode(\"utf-8\" )\n",
    "soup = BeautifulSoup(html, \"html.parser\")"
   ]
  },
  {
   "cell_type": "code",
   "execution_count": 9,
   "metadata": {},
   "outputs": [],
   "source": [
    "stockData = []\n",
    "\n",
    "for trSections in soup.find(\"section\", class_=\"stock-rankings\").div.find_all(\"tr\")[:10]:\n",
    "    stockData.append(trSections.get_text(\"|\", strip=True).split(\"|\"))"
   ]
  },
  {
   "cell_type": "code",
   "execution_count": 10,
   "metadata": {},
   "outputs": [],
   "source": [
    "#stockData.insert(0, ['= ' + today.strftime(\"%d/%m/%Y\") + ' ='])\n",
    "\n",
    "img = Image.new('RGB', (1000, 1000), color = (73, 109, 137))\n",
    "fnt = ImageFont.truetype('env/arialBold.ttf', 70)\n",
    "d = ImageDraw.Draw(img)\n",
    "d.text((200, 0), '= ' + today.strftime(\"%d/%m/%Y\") + ' =', font=fnt, fill=(255, 255, 0))"
   ]
  },
  {
   "cell_type": "code",
   "execution_count": 11,
   "metadata": {},
   "outputs": [],
   "source": [
    "for stockIndex in range(len(stockData)):\n",
    "    stockData[stockIndex][0] = stockData[stockIndex][0].replace('.SA', '')\n",
    "    d = ImageDraw.Draw(img)\n",
    "    \n",
    "    color = (0, 255, 0)\n",
    "    if stockData[stockIndex][1][0] == '-':\n",
    "        color = (255, 76, 76)\n",
    "            \n",
    "    d.text((0,(stockIndex+1.5) *80), ' '+\" \".join(stockData[stockIndex]), font=fnt, fill=color)\n",
    "\n",
    "img.save(fileName,quality=\"maximum\")\n",
    "#display(img)"
   ]
  },
  {
   "cell_type": "code",
   "execution_count": 12,
   "metadata": {},
   "outputs": [
    {
     "data": {
      "text/plain": [
       "True"
      ]
     },
     "execution_count": 12,
     "metadata": {},
     "output_type": "execute_result"
    }
   ],
   "source": [
    "cl = Client()\n",
    "cl.login(config['INSTA_USERNAME'], config['INSTA_PASSWORD'])"
   ]
  },
  {
   "cell_type": "code",
   "execution_count": 13,
   "metadata": {},
   "outputs": [
    {
     "data": {
      "text/plain": [
       "Media(pk=2635428026182027947, id='2635428026182027947_46208545121', code='CSS69OjsEqr', taken_at=datetime.datetime(2021, 8, 8, 1, 52, 4, tzinfo=datetime.timezone.utc), media_type=1, product_type='feed', thumbnail_url=HttpUrl('https://instagram.fcpq7-1.fna.fbcdn.net/v/t51.2885-15/e35/234459415_2897320177187731_2229202982451037894_n.jpg?se=7&_nc_ht=instagram.fcpq7-1.fna.fbcdn.net&_nc_cat=107&_nc_ohc=vFZtQihIO_4AX_UnQfD&edm=ACqnv0EBAAAA&ccb=7-4&oh=0dc6d06f27de387ac06738aed00aafbd&oe=611543BF&_nc_sid=9ec724&ig_cache_key=MjYzNTQyODAyNjE4MjAyNzk0Nw%3D%3D.2-ccb7-4', scheme='https', host='instagram.fcpq7-1.fna.fbcdn.net', tld='net', host_type='domain', path='/v/t51.2885-15/e35/234459415_2897320177187731_2229202982451037894_n.jpg', query='se=7&_nc_ht=instagram.fcpq7-1.fna.fbcdn.net&_nc_cat=107&_nc_ohc=vFZtQihIO_4AX_UnQfD&edm=ACqnv0EBAAAA&ccb=7-4&oh=0dc6d06f27de387ac06738aed00aafbd&oe=611543BF&_nc_sid=9ec724&ig_cache_key=MjYzNTQyODAyNjE4MjAyNzk0Nw%3D%3D.2-ccb7-4'), location=None, user=UserShort(pk=46208545121, username='brstockupdate', full_name='Br Stock Update', profile_pic_url=HttpUrl('https://instagram.fcpq7-1.fna.fbcdn.net/v/t51.2885-19/s150x150/154529929_547720352868717_6292715002651994054_n.jpg?_nc_ht=instagram.fcpq7-1.fna.fbcdn.net&_nc_ohc=zeU-vuzbXvEAX-n76ol&edm=ACqnv0EBAAAA&ccb=7-4&oh=407c28b2364ab29305aa8a8a853936c8&oe=6117207B&_nc_sid=9ec724', scheme='https', host='instagram.fcpq7-1.fna.fbcdn.net', tld='net', host_type='domain', path='/v/t51.2885-19/s150x150/154529929_547720352868717_6292715002651994054_n.jpg', query='_nc_ht=instagram.fcpq7-1.fna.fbcdn.net&_nc_ohc=zeU-vuzbXvEAX-n76ol&edm=ACqnv0EBAAAA&ccb=7-4&oh=407c28b2364ab29305aa8a8a853936c8&oe=6117207B&_nc_sid=9ec724'), profile_pic_url_hd=None, stories=[]), comment_count=0, like_count=0, has_liked=False, caption_text='this is a test', usertags=[], video_url=None, view_count=0, video_duration=0.0, title='', resources=[])"
      ]
     },
     "execution_count": 13,
     "metadata": {},
     "output_type": "execute_result"
    }
   ],
   "source": [
    "cl.photo_upload(fileName, 'this is a test')"
   ]
  }
 ],
 "metadata": {
  "kernelspec": {
   "display_name": "Python 3",
   "language": "python",
   "name": "python3"
  },
  "language_info": {
   "codemirror_mode": {
    "name": "ipython",
    "version": 3
   },
   "file_extension": ".py",
   "mimetype": "text/x-python",
   "name": "python",
   "nbconvert_exporter": "python",
   "pygments_lexer": "ipython3",
   "version": "3.8.3"
  }
 },
 "nbformat": 4,
 "nbformat_minor": 4
}
